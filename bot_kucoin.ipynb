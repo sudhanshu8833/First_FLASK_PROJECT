{
 "cells": [
  {
   "cell_type": "code",
   "execution_count": null,
   "metadata": {},
   "outputs": [],
   "source": [
    "import pandas as pd\n",
    "from kucoin.client import User\n",
    "from kucoin.client import Trade\n",
    "from kucoin.client import Market\n",
    "\n",
    "\n",
    "api_key = '615bf930a9ee0b000181dc97'\n",
    "api_secret = '183c0b1a-63a4-40a0-ba46-cf4c23f8429b'\n",
    "api_passphrase = 'tradebot'"
   ]
  },
  {
   "cell_type": "code",
   "execution_count": null,
   "metadata": {},
   "outputs": [],
   "source": [
    "\n",
    "client = Trade(api_key, api_secret, api_passphrase, is_sandbox=True)"
   ]
  },
  {
   "cell_type": "code",
   "execution_count": null,
   "metadata": {},
   "outputs": [],
   "source": [
    "\n",
    "client = User(api_key, api_secret, api_passphrase)\n",
    "\n",
    "# or connect to Sandbox\n",
    "# client = User(api_key, api_secret, api_passphrase, is_sandbox=True)\n",
    "\n",
    "address = client.get_withdrawal_quota('KCS')\n",
    "\n",
    "client = Market(url='https://api.kucoin.com')\n",
    "# client = Market()\n",
    "\n",
    "# or connect to Sandbox\n",
    "# client = Market(url='https://openapi-sandbox.kucoin.com')\n",
    "# client = Market(is_sandbox=True)\n",
    "\n",
    "# get symbol kline\n",
    "klines = client.get_ticker()\n",
    "order_id = client.create_limit_stop_order('BTC-USDT', 'buy', '1', '8000','8500')\n",
    "from kucoin.client import User\n",
    "client = User(api_key, api_secret, api_passphrase)\n",
    "from kucoin.client import Trade\n",
    "client = Trade(key='', secret='', passphrase='', is_sandbox=False, url='')"
   ]
  },
  {
   "cell_type": "code",
   "execution_count": null,
   "metadata": {},
   "outputs": [],
   "source": [
    "client.get_order_details()\n"
   ]
  },
  {
   "cell_type": "code",
   "execution_count": null,
   "metadata": {},
   "outputs": [],
   "source": [
    "# is_Active ----> order status, true and false. If true, the order is active, if false, the order is fillled or cancelled"
   ]
  },
  {
   "cell_type": "code",
   "execution_count": null,
   "metadata": {},
   "outputs": [],
   "source": []
  },
  {
   "cell_type": "code",
   "execution_count": null,
   "metadata": {},
   "outputs": [],
   "source": []
  },
  {
   "cell_type": "code",
   "execution_count": null,
   "metadata": {},
   "outputs": [],
   "source": [
    "\n",
    "df1 = pd.read_csv(\"strategy.csv\")\n",
    "length=len(df1)\n",
    "series=df1[:].iloc[m]"
   ]
  },
  {
   "cell_type": "code",
   "execution_count": null,
   "metadata": {},
   "outputs": [],
   "source": [
    "def main():\n",
    "    global ltp,df1,series,m,l,lists\n",
    "\n",
    "    \n",
    "    df1 = pd.read_csv(\"strategy.csv\")\n",
    "    length=len(df1)\n",
    "    series=df1[:].iloc[m]\n",
    "    # print(series)\n",
    "\n",
    "    print(series['instrument'])\n",
    "\n",
    "\n",
    "\n",
    "\n",
    "    if 'close' not in series['buy/sell']:\n",
    "        if series['type']=='STOP-LIMIT':\n",
    "            order_id = client.create_limit_stop_order(str(series['instrument']),str(series['buy/sell']), str(series['quantity']),str(series['limit_value']),str(series['stop_value']))\n",
    "            lists.append(order_id)\n",
    "\n",
    "        elif series['type']=='LIMIT':\n",
    "            order_id = client.create_limit_order(str(series['instrument']),str(series['buy/sell']), str(series['quantity']),str(series['limit_value']))\n",
    "            lists.append(order_id)\n",
    "\n",
    "\n",
    "\n",
    "    if 'close' in series['buy/sell']:\n",
    "        if series['type']=='STOP-LIMIT':\n",
    "            order_id = client.create_limit_stop_order(str(series['instrument']),str(series['buy/sell']), str(series['quantity']),str(series['limit_value']),str(series['stop_value']))\n",
    "            lists.append(order_id)\n",
    "\n",
    "        elif series['type']=='LIMIT':\n",
    "            order_id = client.create_limit_order(str(series['instrument']),str(series['buy/sell']), str(series['quantity']),str(series['limit_value']))\n",
    "            lists.append(order_id)\n",
    "\n",
    "\n",
    "\n",
    "    while True:\n",
    "        data=client.get_order_details()\n",
    "\n",
    "        if data['isActive']=='false':\n",
    "\n",
    "            break\n",
    "\n",
    "\n",
    "    # df1 = pd.read_csv(\"strategy.csv\")\n",
    "    # length=len(df1)\n",
    "    # series=df1[:].iloc[m]\n",
    "    # # if series['buy/sell']=='N':\n",
    "    # #     m=0\n",
    "    # ltp=ltp_price(series['instrument'])\n",
    "    # if m==0:\n",
    "    #     if series['buy/sell']=='buy':\n",
    "    #         market_order(m)\n",
    "\n",
    "    #     if series['buy/sell']=='sell':\n",
    "    #         market_order1(m)\n",
    "\n",
    "    #     m=0"
   ]
  },
  {
   "cell_type": "code",
   "execution_count": null,
   "metadata": {},
   "outputs": [],
   "source": [
    "m=0\n",
    "l=0\n",
    "lists=[]\n",
    "while True:\n",
    "    try:\n",
    "\n",
    "        main()\n",
    "    # print(\"hello\")\n",
    "    except Exception as e:\n",
    "        botss=str(e)\n",
    "        print(str(e))\n",
    "        # bot.sendMessage(1039725953,botss)"
   ]
  },
  {
   "cell_type": "code",
   "execution_count": null,
   "metadata": {},
   "outputs": [],
   "source": []
  }
 ],
 "metadata": {
  "kernelspec": {
   "display_name": "Python 3.9.5 64-bit",
   "name": "python395jvsc74a57bd0aee8b7b246df8f9039afb4144a1f6fd8d2ca17a180786b69acc140d282b71a49"
  },
  "language_info": {
   "codemirror_mode": {
    "name": "ipython",
    "version": 3
   },
   "file_extension": ".py",
   "mimetype": "text/x-python",
   "name": "python",
   "nbconvert_exporter": "python",
   "pygments_lexer": "ipython3",
   "version": "3.9.5"
  },
  "metadata": {
   "interpreter": {
    "hash": "aee8b7b246df8f9039afb4144a1f6fd8d2ca17a180786b69acc140d282b71a49"
   }
  },
  "orig_nbformat": 2
 },
 "nbformat": 4,
 "nbformat_minor": 2
}